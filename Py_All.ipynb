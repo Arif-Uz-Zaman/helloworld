{
  "nbformat": 4,
  "nbformat_minor": 0,
  "metadata": {
    "colab": {
      "name": "Py_All.ipynb",
      "provenance": [],
      "collapsed_sections": [
        "TjXLEe56kkA3",
        "uI47sWLnrI20",
        "avKSBFojKTel",
        "XU4oF9KGiFUV",
        "giJecBl7UuYg",
        "fAVC6SzTaOlq",
        "PSqNTr0yfGC7",
        "i4toxDGCVNO3",
        "x1p6atVzV-rB",
        "u4C6SqwMWhmS",
        "Zas1ovnrhglL"
      ],
      "toc_visible": true,
      "include_colab_link": true
    },
    "kernelspec": {
      "name": "python3",
      "display_name": "Python 3"
    },
    "language_info": {
      "name": "python"
    }
  },
  "cells": [
    {
      "cell_type": "markdown",
      "metadata": {
        "id": "view-in-github",
        "colab_type": "text"
      },
      "source": [
        "<a href=\"https://colab.research.google.com/github/Arif-Uz-Zaman/helloworld/blob/github/Py_All.ipynb\" target=\"_parent\"><img src=\"https://colab.research.google.com/assets/colab-badge.svg\" alt=\"Open In Colab\"/></a>"
      ]
    },
    {
      "cell_type": "markdown",
      "metadata": {
        "id": "4exhIsvZrYAg"
      },
      "source": [
        "# **List** \n",
        "- List creation\n",
        "- List Comprehension\n",
        "- List Slicing \n",
        "- Changable (Update, Add, Remove)\n",
        "- Looping Through List\n",
        "- sort,max,min & sum\n",
        "- List using Loop and if_elif\n",
        "- List Copy"
      ]
    },
    {
      "cell_type": "markdown",
      "metadata": {
        "id": "yyl0DOvVr61v"
      },
      "source": [
        "# **List Creation**"
      ]
    },
    {
      "cell_type": "code",
      "metadata": {
        "colab": {
          "base_uri": "https://localhost:8080/"
        },
        "id": "DnIed2Gwr_gv",
        "outputId": "824acf65-4507-41bf-f46e-844bf6b461d9"
      },
      "source": [
        "myList = [\"apple\", \"banana\", \"cherry\"]\n",
        "print(myList)\n",
        "mylist = list(('apple', 'banana', 'cherry'))\n",
        "print(mylist)\n",
        "list1 = [1,2,3,4]\n",
        "list2 = [True, False, True]\n",
        "list3 = [\"apple\",\"banana\",\"cherry\",\"apple\"]\n",
        "print(list1)\n",
        "print(list2)\n",
        "print(list3)"
      ],
      "execution_count": null,
      "outputs": [
        {
          "output_type": "stream",
          "text": [
            "['apple', 'banana', 'cherry']\n",
            "['apple', 'banana', 'cherry']\n",
            "[1, 2, 3, 4]\n",
            "[True, False, True]\n",
            "['apple', 'banana', 'cherry', 'apple']\n"
          ],
          "name": "stdout"
        }
      ]
    },
    {
      "cell_type": "markdown",
      "metadata": {
        "id": "81MPse0MFX-A"
      },
      "source": [
        "# **List Comprehension**"
      ]
    },
    {
      "cell_type": "code",
      "metadata": {
        "id": "CsDJedyDFceo",
        "colab": {
          "base_uri": "https://localhost:8080/"
        },
        "outputId": "fbe09e11-aa44-417f-c092-b3ee27d95beb"
      },
      "source": [
        "n = int(input())\n",
        "mylist = [0 for i in range(1,n+1)] #pattern = mylist = [value for interative(i) in range(start,end+1)]\n",
        "print(mylist)\n",
        "\n",
        "sq = [i*i for i in range(10)]\n",
        "print(sq)"
      ],
      "execution_count": null,
      "outputs": [
        {
          "output_type": "stream",
          "text": [
            "5\n",
            "[0, 0, 0, 0, 0]\n",
            "[0, 1, 4, 9, 16, 25, 36, 49, 64, 81]\n"
          ],
          "name": "stdout"
        }
      ]
    },
    {
      "cell_type": "markdown",
      "metadata": {
        "id": "CkQrO03nbZ4Y"
      },
      "source": [
        "# **List Slicing**"
      ]
    },
    {
      "cell_type": "code",
      "metadata": {
        "colab": {
          "base_uri": "https://localhost:8080/"
        },
        "id": "NXlNPOnrbd93",
        "outputId": "0ffe8cff-139c-498b-8104-c0e6ae7aee31"
      },
      "source": [
        "myList = [\"apple\", \"banana\", \"cherry\", \"orange\", \"kiwi\", \"melon\", \"mango\"]\n",
        "print(myList[2:5])\n",
        "print(myList[:4])\n",
        "print(myList[4:])\n",
        "print(myList[-5:-2])\n",
        "print(myList[-5:5])"
      ],
      "execution_count": null,
      "outputs": [
        {
          "output_type": "stream",
          "text": [
            "['cherry', 'orange', 'kiwi']\n",
            "['apple', 'banana', 'cherry', 'orange']\n",
            "['kiwi', 'melon', 'mango']\n",
            "['cherry', 'orange', 'kiwi']\n",
            "['cherry', 'orange', 'kiwi']\n"
          ],
          "name": "stdout"
        }
      ]
    },
    {
      "cell_type": "markdown",
      "metadata": {
        "id": "HUHqvZ8HcjSR"
      },
      "source": [
        "# **List Changability(Update,Add,delete)**\n",
        "\n",
        "-Update\n"
      ]
    },
    {
      "cell_type": "code",
      "metadata": {
        "colab": {
          "base_uri": "https://localhost:8080/"
        },
        "id": "0RIEV_5CcwBs",
        "outputId": "34098cc7-5941-47c6-cdb3-f4fba97f7f39"
      },
      "source": [
        "mylist = [\"apple\",\"banana\",\"cherry\"]\n",
        "mylist[0] = \"mango\" # replace in particular index\n",
        "print(mylist)\n",
        "mylist[0:2] = [\"apple\", \"strawberry\"] #replace in several index\n",
        "print(mylist)\n",
        "mylist[0:2] = [\"mango\", \"orange\",\"watermelon\"] #replace several index and adding extra at the next of the last index mentioned\n",
        "print(mylist)"
      ],
      "execution_count": null,
      "outputs": [
        {
          "output_type": "stream",
          "text": [
            "['mango', 'banana', 'cherry']\n",
            "['apple', 'strawberry', 'cherry']\n",
            "['mango', 'orange', 'watermelon', 'cherry']\n"
          ],
          "name": "stdout"
        }
      ]
    },
    {
      "cell_type": "markdown",
      "metadata": {
        "id": "pD6PuYlvELnl"
      },
      "source": [
        "-Add(append,insert,extend)\n"
      ]
    },
    {
      "cell_type": "code",
      "metadata": {
        "colab": {
          "base_uri": "https://localhost:8080/"
        },
        "id": "7auycM3zEEEf",
        "outputId": "021f34f4-9df5-4781-dac9-39e82bd8cd22"
      },
      "source": [
        "mylist = [\"apple\",\"banana\",\"cherry\"]\n",
        "mylist1  = [\"mango\",\"orange\"]\n",
        "mylist =mylist+mylist1 # adding both list\n",
        "print(mylist)\n",
        "\n",
        "mylist = [\"apple\",\"banana\",\"cherry\"]\n",
        "mylist.append(\"mango\") #use of append\n",
        "print(mylist)\n",
        "mylist.insert(1 , \"Strawberry\") #use of insert\n",
        "print(mylist)"
      ],
      "execution_count": null,
      "outputs": [
        {
          "output_type": "stream",
          "text": [
            "['apple', 'banana', 'cherry', 'mango', 'orange']\n",
            "['apple', 'banana', 'cherry', 'mango']\n",
            "['apple', 'Strawberry', 'banana', 'cherry', 'mango']\n"
          ],
          "name": "stdout"
        }
      ]
    },
    {
      "cell_type": "markdown",
      "metadata": {
        "id": "mJldNM2nRS0D"
      },
      "source": [
        "-Delete(remove,pop,del)\n"
      ]
    },
    {
      "cell_type": "code",
      "metadata": {
        "colab": {
          "base_uri": "https://localhost:8080/"
        },
        "id": "S_MB272bRb9q",
        "outputId": "0737c03d-80f9-4384-e7a0-6bf43aeee53e"
      },
      "source": [
        "mylist = ['apple', 'Strawberry', 'banana', 'cherry', 'mango']\n",
        "mylist.remove(\"apple\")\n",
        "print(mylist)\n",
        "mylist.pop(2)\n",
        "print(mylist)\n",
        "del mylist[0:2]\n",
        "print(mylist)"
      ],
      "execution_count": null,
      "outputs": [
        {
          "output_type": "stream",
          "text": [
            "['Strawberry', 'banana', 'cherry', 'mango']\n",
            "['Strawberry', 'banana', 'mango']\n",
            "['mango']\n"
          ],
          "name": "stdout"
        }
      ]
    },
    {
      "cell_type": "markdown",
      "metadata": {
        "id": "S6st6nNMTQcI"
      },
      "source": [
        "# Looping through List"
      ]
    },
    {
      "cell_type": "code",
      "metadata": {
        "colab": {
          "base_uri": "https://localhost:8080/"
        },
        "id": "W3Ti4DvrTiX3",
        "outputId": "8a4720ee-c84a-47b0-89a5-d59af20b50d9"
      },
      "source": [
        "fruits = ['apple', 'Strawberry', 'banana', 'cherry', 'mango']\n",
        "for i in fruits:  #to print everything in list\n",
        "  print(i)\n",
        "\n",
        "for i in range(len(fruits)): #using range\n",
        "  print(fruits[i])\n",
        "\n",
        "mylist = list(range(10)) #typecasting list and another use of range\n",
        "print(mylist)"
      ],
      "execution_count": null,
      "outputs": [
        {
          "output_type": "stream",
          "text": [
            "apple\n",
            "Strawberry\n",
            "banana\n",
            "cherry\n",
            "mango\n",
            "apple\n",
            "Strawberry\n",
            "banana\n",
            "cherry\n",
            "mango\n",
            "[0, 1, 2, 3, 4, 5, 6, 7, 8, 9]\n"
          ],
          "name": "stdout"
        }
      ]
    },
    {
      "cell_type": "markdown",
      "metadata": {
        "id": "TjXLEe56kkA3"
      },
      "source": [
        "# List Sort,Max,Min & Sum"
      ]
    },
    {
      "cell_type": "code",
      "metadata": {
        "colab": {
          "base_uri": "https://localhost:8080/"
        },
        "id": "zRznZ59BktP1",
        "outputId": "748d3f41-b369-4ec9-fa35-4dd69e8f3870"
      },
      "source": [
        "#sort works according to ascci value\n",
        "list1 = [\"45\",\"20\",\"30\",\"5\"]\n",
        "list1.sort()\n",
        "print(list1)\n",
        "list2 = [45,20,30,5]\n",
        "list2.sort()\n",
        "print(list2)\n",
        "#ascending sorting \n",
        "list1.sort(reverse= True)\n",
        "fruits = [\"apple\",\"mango\", \"cherry\", \"kiwi\", \"banana\"]\n",
        "fruits.sort()\n",
        "print(fruits)\n",
        "print(list1)\n",
        "print(min(list1))\n",
        "print(max(list1))\n",
        "# print(sum(list1))"
      ],
      "execution_count": null,
      "outputs": [
        {
          "output_type": "stream",
          "text": [
            "['20', '30', '45', '5']\n",
            "[5, 20, 30, 45]\n",
            "['apple', 'banana', 'cherry', 'kiwi', 'mango']\n",
            "['5', '45', '30', '20']\n",
            "20\n",
            "5\n"
          ],
          "name": "stdout"
        }
      ]
    },
    {
      "cell_type": "markdown",
      "metadata": {
        "id": "uI47sWLnrI20"
      },
      "source": [
        "# List using Loop and if_elif with list comprehension "
      ]
    },
    {
      "cell_type": "markdown",
      "metadata": {
        "id": "avKSBFojKTel"
      },
      "source": [
        "# List Copy"
      ]
    },
    {
      "cell_type": "code",
      "metadata": {
        "colab": {
          "base_uri": "https://localhost:8080/"
        },
        "id": "s3kbIjgHVD9U",
        "outputId": "b65d2b2e-3bb2-4783-96ec-626b3f119654"
      },
      "source": [
        "#manual\n",
        "fruits = [\"apple\", \"banana\", \"cherry\", \"kiwi\", \"mango\"]\n",
        "copy_fruits = fruits\n",
        "fruits.append(\"orange\")\n",
        "print(fruits)\n",
        "print(copy_fruits)\n",
        "\n",
        "#another manual way \n",
        "copy_fruits = []+fruits\n",
        "fruits.append(\"date\")\n",
        "print(fruits)\n",
        "print(copy_fruits)\n",
        "\n",
        "#using copy()\n",
        "copy_fruits= fruits.copy()\n",
        "fruits.append(\"strawberry\")\n",
        "print(fruits)\n",
        "print(copy_fruits)\n",
        "\n",
        "#using slicing \n",
        "copy_fruits = fruits[:]\n",
        "fruits.append(\"guava\")\n",
        "print(fruits)\n",
        "print(copy_fruits)\n",
        "\n",
        "#typecast copy if needed\n",
        "copy_fruits = list(fruits)\n",
        "fruits.append(\"jackfruit\")\n",
        "print(fruits)\n",
        "print(copy_fruits)\n",
        "\n",
        "#using extend(list_name)\n",
        "copy_fruits = []\n",
        "copy_fruits.extend(fruits)\n",
        "fruits.append(\"razeberry\")\n",
        "print(fruits)\n",
        "print(copy_fruits)\n",
        "\n",
        "fruits = [\"apple\", \"banana\", \"cherry\", \"kiwi\", \"mango\"]\n",
        "print(fruits*2) #copying twice and putting in same list\n"
      ],
      "execution_count": null,
      "outputs": [
        {
          "output_type": "stream",
          "text": [
            "['apple', 'banana', 'cherry', 'kiwi', 'mango', 'orange']\n",
            "['apple', 'banana', 'cherry', 'kiwi', 'mango', 'orange']\n",
            "['apple', 'banana', 'cherry', 'kiwi', 'mango', 'orange', 'date']\n",
            "['apple', 'banana', 'cherry', 'kiwi', 'mango', 'orange']\n",
            "['apple', 'banana', 'cherry', 'kiwi', 'mango', 'orange', 'date', 'strawberry']\n",
            "['apple', 'banana', 'cherry', 'kiwi', 'mango', 'orange', 'date']\n",
            "['apple', 'banana', 'cherry', 'kiwi', 'mango', 'orange', 'date', 'strawberry', 'guava']\n",
            "['apple', 'banana', 'cherry', 'kiwi', 'mango', 'orange', 'date', 'strawberry']\n",
            "['apple', 'banana', 'cherry', 'kiwi', 'mango', 'orange', 'date', 'strawberry', 'guava', 'jackfruit']\n",
            "['apple', 'banana', 'cherry', 'kiwi', 'mango', 'orange', 'date', 'strawberry', 'guava']\n",
            "['apple', 'banana', 'cherry', 'kiwi', 'mango', 'orange', 'date', 'strawberry', 'guava', 'jackfruit', 'razeberry']\n",
            "['apple', 'banana', 'cherry', 'kiwi', 'mango', 'orange', 'date', 'strawberry', 'guava', 'jackfruit']\n",
            "['apple', 'banana', 'cherry', 'kiwi', 'mango', 'apple', 'banana', 'cherry', 'kiwi', 'mango']\n"
          ],
          "name": "stdout"
        }
      ]
    },
    {
      "cell_type": "code",
      "metadata": {
        "colab": {
          "base_uri": "https://localhost:8080/"
        },
        "id": "IaQTk9lArOGL",
        "outputId": "bb9db9b4-c828-4680-d206-4244656d52c7"
      },
      "source": [
        "fruits = [\"apple\", \"banana\", \"cherry\", \"kiwi\", \"mango\"]\n",
        "\n",
        "new_fruits = []\n",
        "for fruit in fruits:\n",
        "  if \"a\" in fruit:\n",
        "    new_fruits.append(fruit)\n",
        "\n",
        "print(new_fruits)\n",
        "\n",
        "new_fruits = []\n",
        "for fruit in fruits:\n",
        "  if \"a\" in fruit:\n",
        "    new_fruits.append(fruit)\n",
        "  else:\n",
        "    new_fruits.append(\"orange\")\n",
        "\n",
        "print(new_fruits)\n",
        "#list comprehension\n",
        "fruits = [\"apple\", \"banana\", \"cherry\", \"kiwi\", \"mango\"]\n",
        "new_fruits = [fruit if \"a\" in fruit else \"orange\" for fruit in fruits]\n",
        "print(new_fruits)"
      ],
      "execution_count": null,
      "outputs": [
        {
          "output_type": "stream",
          "text": [
            "['apple', 'banana', 'mango']\n",
            "['apple', 'banana', 'orange', 'orange', 'mango']\n",
            "['apple', 'banana', 'orange', 'orange', 'mango']\n"
          ],
          "name": "stdout"
        }
      ]
    },
    {
      "cell_type": "markdown",
      "metadata": {
        "id": "DACgL2_Vdb3r"
      },
      "source": [
        "# List Matrix"
      ]
    },
    {
      "cell_type": "code",
      "metadata": {
        "colab": {
          "base_uri": "https://localhost:8080/"
        },
        "id": "Dk9dZhxzde_7",
        "outputId": "74d78c61-a0ac-4acb-a9d1-f9b1a29eef0a"
      },
      "source": [
        "list1  = [[1,2,3,4],[5,6,7,8]]\n",
        "\n",
        "for l in  list1:\n",
        "  for i in l:\n",
        "    print(i,end= \" \")\n",
        "  print()\n",
        "\n",
        "print(list1[0][1])"
      ],
      "execution_count": null,
      "outputs": [
        {
          "output_type": "stream",
          "text": [
            "1 2 3 4 \n",
            "5 6 7 8 \n",
            "2\n"
          ],
          "name": "stdout"
        }
      ]
    },
    {
      "cell_type": "markdown",
      "metadata": {
        "id": "ziaQKel5fisT"
      },
      "source": [
        "# **Tuple**\n",
        "- Tuple creation \n",
        "- Tuple slicing\n",
        "- Tuple Update\n",
        "- Tuple add & del\n",
        "- Tuple unpack\n",
        "- Tuple iteration"
      ]
    },
    {
      "cell_type": "markdown",
      "metadata": {
        "id": "XU4oF9KGiFUV"
      },
      "source": [
        "# Tuple Creation"
      ]
    },
    {
      "cell_type": "code",
      "metadata": {
        "colab": {
          "base_uri": "https://localhost:8080/"
        },
        "id": "F2q2SHf3iFA_",
        "outputId": "5658657e-8287-4233-da38-6db34a4894f5"
      },
      "source": [
        "tuples = (200,10)\n",
        "print(tuples)\n",
        "print(len(tuples))\n",
        "print(type(tuples))\n",
        "\n",
        "tuples = tuple((200,10))\n",
        "print(tuples)\n",
        "\n",
        "tuple1 = (\"abc\", 34, True, 40, \"male\")\n",
        "print(tuple1)\n",
        "\n",
        "tuples = ()\n",
        "print(type(tuples))\n",
        "\n",
        "tuples = (10)\n",
        "print(type(tuples))\n",
        "\n",
        "tuples = (10,)\n",
        "print(type(tuples))"
      ],
      "execution_count": null,
      "outputs": [
        {
          "output_type": "stream",
          "text": [
            "(200, 10)\n",
            "2\n",
            "<class 'tuple'>\n",
            "(200, 10)\n",
            "('abc', 34, True, 40, 'male')\n",
            "<class 'tuple'>\n",
            "<class 'int'>\n",
            "<class 'tuple'>\n"
          ],
          "name": "stdout"
        }
      ]
    },
    {
      "cell_type": "markdown",
      "metadata": {
        "id": "giJecBl7UuYg"
      },
      "source": [
        "# Tuple Slicing"
      ]
    },
    {
      "cell_type": "code",
      "metadata": {
        "colab": {
          "base_uri": "https://localhost:8080/"
        },
        "id": "napQy7i2Uz74",
        "outputId": "76cdeee7-9326-456f-80bc-0cc9750d3149"
      },
      "source": [
        "tuple1 = (\"apple\", \"banana\", \"cherry\")\n",
        "print(tuple1[:2])\n",
        "print(tuple1[:-1])"
      ],
      "execution_count": null,
      "outputs": [
        {
          "output_type": "stream",
          "text": [
            "('apple', 'banana')\n",
            "('apple', 'banana')\n"
          ],
          "name": "stdout"
        }
      ]
    },
    {
      "cell_type": "markdown",
      "metadata": {
        "id": "FQYQDZl1VKSW"
      },
      "source": [
        "# Tuple Update\n",
        "  - Not updatable\n",
        "  - unable to add or remove"
      ]
    },
    {
      "cell_type": "code",
      "metadata": {
        "id": "cvqB96xkVMvW",
        "colab": {
          "base_uri": "https://localhost:8080/"
        },
        "outputId": "828d4339-7916-4851-d32f-20ca36feb87b"
      },
      "source": [
        "#Tuple is not updatable but we can update by typecasting \n",
        "tuples = (200,10,1,43,5,5,6)\n",
        "list1 = list(tuples)\n",
        "list1[0] = 250\n",
        "tuples = tuple(list1)\n",
        "print(tuples)\n",
        "\n",
        "\n",
        "print(tuples*2) #copying twice and saving in same tuple"
      ],
      "execution_count": null,
      "outputs": [
        {
          "output_type": "stream",
          "text": [
            "(250, 10, 1, 43, 5, 5, 6)\n",
            "(250, 10, 1, 43, 5, 5, 6, 250, 10, 1, 43, 5, 5, 6)\n"
          ],
          "name": "stdout"
        }
      ]
    },
    {
      "cell_type": "markdown",
      "metadata": {
        "id": "jg8CkTb-YW3s"
      },
      "source": [
        "# Tuple add & del"
      ]
    },
    {
      "cell_type": "code",
      "metadata": {
        "id": "A4KuLRYzYigh",
        "colab": {
          "base_uri": "https://localhost:8080/",
          "height": 299
        },
        "outputId": "50add324-a0c1-45f8-e1fb-0393402c4523"
      },
      "source": [
        "#append through type casting to list\n",
        "tuples = (200,10,1,43,5,5,6)\n",
        "list1 = list(tuples)\n",
        "list1.append(100)\n",
        "tuples = tuple(list1)\n",
        "print(tuples)\n",
        "\n",
        "#adding 2 tupls\n",
        "tuples = (200,10,1,43,5,5,6)\n",
        "tuples = tuples+(100,)\n",
        "print(tuples)\n",
        "\n",
        "fruits1 = (\"apple\", \"banana\", \"cherry\")\n",
        "fruits2 = (\"strawberry\", \"raspberry\")\n",
        "\n",
        "fruits3 =fruits1+fruits2\n",
        "print(fruits3)\n",
        "\n",
        "#deletion through type casting to list\n",
        "list1 = list(tuples)\n",
        "list1.remove(200)\n",
        "tuples = tuple(list1)\n",
        "print(tuples)\n"
      ],
      "execution_count": null,
      "outputs": [
        {
          "output_type": "stream",
          "text": [
            "(200, 10, 1, 43, 5, 5, 6, 100)\n",
            "(200, 10, 1, 43, 5, 5, 6, 100)\n",
            "('apple', 'banana', 'cherry', 'strawberry', 'raspberry')\n",
            "(10, 1, 43, 5, 5, 6, 100)\n"
          ],
          "name": "stdout"
        },
        {
          "output_type": "error",
          "ename": "AttributeError",
          "evalue": "ignored",
          "traceback": [
            "\u001b[0;31m---------------------------------------------------------------------------\u001b[0m",
            "\u001b[0;31mAttributeError\u001b[0m                            Traceback (most recent call last)",
            "\u001b[0;32m<ipython-input-14-9207eb5639ba>\u001b[0m in \u001b[0;36m<module>\u001b[0;34m()\u001b[0m\n\u001b[1;32m     24\u001b[0m \u001b[0;34m\u001b[0m\u001b[0m\n\u001b[1;32m     25\u001b[0m \u001b[0mlist1\u001b[0m \u001b[0;34m=\u001b[0m \u001b[0mlist\u001b[0m\u001b[0;34m(\u001b[0m\u001b[0mtuples\u001b[0m\u001b[0;34m)\u001b[0m\u001b[0;34m\u001b[0m\u001b[0;34m\u001b[0m\u001b[0m\n\u001b[0;32m---> 26\u001b[0;31m \u001b[0mlist1\u001b[0m\u001b[0;34m.\u001b[0m\u001b[0mdiscard\u001b[0m\u001b[0;34m(\u001b[0m\u001b[0;36m10\u001b[0m\u001b[0;34m)\u001b[0m\u001b[0;34m\u001b[0m\u001b[0;34m\u001b[0m\u001b[0m\n\u001b[0m\u001b[1;32m     27\u001b[0m \u001b[0mtuples\u001b[0m \u001b[0;34m=\u001b[0m \u001b[0mtuple\u001b[0m\u001b[0;34m(\u001b[0m\u001b[0mlist1\u001b[0m\u001b[0;34m)\u001b[0m\u001b[0;34m\u001b[0m\u001b[0;34m\u001b[0m\u001b[0m\n\u001b[1;32m     28\u001b[0m \u001b[0mprint\u001b[0m\u001b[0;34m(\u001b[0m\u001b[0mtuples\u001b[0m\u001b[0;34m)\u001b[0m\u001b[0;34m\u001b[0m\u001b[0;34m\u001b[0m\u001b[0m\n",
            "\u001b[0;31mAttributeError\u001b[0m: 'list' object has no attribute 'discard'"
          ]
        }
      ]
    },
    {
      "cell_type": "markdown",
      "metadata": {
        "id": "fAVC6SzTaOlq"
      },
      "source": [
        "# Tuple Unpack"
      ]
    },
    {
      "cell_type": "code",
      "metadata": {
        "colab": {
          "base_uri": "https://localhost:8080/"
        },
        "id": "ls7CZcBxaRRg",
        "outputId": "a8a094c6-ba2b-4e76-b923-efe45e796c6b"
      },
      "source": [
        "#unpacking tuples into different variables\n",
        "fruits =(\"apple\",\"banana\",\"cherry\")\n",
        "fruit1 , fruit2, fruit3 = fruits\n",
        "print(fruit1)\n",
        "print(fruit2)\n",
        "print(fruit3)\n",
        "\n",
        "#unpacking tuples into different variables also putting the rest of the tuples into new tuple \n",
        "fruits = (\"apple\", \"banana\", \"cherry\", \"strawberry\", \"raspberry\")\n",
        "fruit1 , fruit2, *new_fruits = fruits #works according to sequence\n",
        "#fruit1 ,*new_fruits, fruit2  = fruits\n",
        "#*new_fruits, fruit1 , fruit2  = fruits\n",
        "print(fruit1)\n",
        "print(fruit2)\n",
        "print(tuple(new_fruits))"
      ],
      "execution_count": null,
      "outputs": [
        {
          "output_type": "stream",
          "text": [
            "apple\n",
            "banana\n",
            "cherry\n",
            "apple\n",
            "banana\n",
            "('cherry', 'strawberry', 'raspberry')\n"
          ],
          "name": "stdout"
        }
      ]
    },
    {
      "cell_type": "markdown",
      "metadata": {
        "id": "PSqNTr0yfGC7"
      },
      "source": [
        "# Tuple iteration"
      ]
    },
    {
      "cell_type": "code",
      "metadata": {
        "id": "5IgQddr_fJSo"
      },
      "source": [
        "#iteration of tuple\n",
        "fruits = (\"apple\", \"banana\", \"cherry\", \"strawberry\", \"raspberry\")\n",
        "for fruit in fruits:\n",
        "  print(fruit)\n",
        "  \n",
        "#iteration of tuple using range\n",
        "fruits = (\"apple\", \"banana\", \"cherry\", \"strawberry\", \"raspberry\")\n",
        "n = len(fruits)\n",
        "for i in range(n):\n",
        "  print(fruits[i])"
      ],
      "execution_count": null,
      "outputs": []
    },
    {
      "cell_type": "markdown",
      "metadata": {
        "id": "njqmAOzjhEKV"
      },
      "source": [
        "# **Set**\n",
        "- Set creation\n",
        "- Set Update\n",
        "- Set Add & Del\n",
        "- Set Function\n",
        "- Set elemental check"
      ]
    },
    {
      "cell_type": "markdown",
      "metadata": {
        "id": "qCJq0STIj9Tg"
      },
      "source": [
        "# Set Creation"
      ]
    },
    {
      "cell_type": "code",
      "metadata": {
        "colab": {
          "base_uri": "https://localhost:8080/"
        },
        "id": "X34aXIwNj_Q_",
        "outputId": "e929055c-9408-41a8-d839-a86bc2e39b4d"
      },
      "source": [
        "set1 = {'apple', 'banana', 'cherry',\"orange\",\"kiwi\"}\n",
        "print(set1)\n",
        "print(type(set1))\n",
        "print(len(set1))\n",
        "\n",
        "set1 = {\"abc\", 34, True, 40, \"male\"}\n",
        "print(set1)"
      ],
      "execution_count": null,
      "outputs": [
        {
          "output_type": "stream",
          "text": [
            "{'orange', 'cherry', 'banana', 'apple', 'kiwi'}\n",
            "<class 'set'>\n",
            "5\n",
            "{True, 34, 40, 'abc', 'male'}\n"
          ],
          "name": "stdout"
        }
      ]
    },
    {
      "cell_type": "markdown",
      "metadata": {
        "id": "NsoWleGSrSTu"
      },
      "source": [
        "# Set Update\n",
        "- not directly updatable"
      ]
    },
    {
      "cell_type": "code",
      "metadata": {
        "colab": {
          "base_uri": "https://localhost:8080/"
        },
        "id": "m6hGCo3QrVxs",
        "outputId": "160de89c-6a3b-43b1-b2a0-ff6cb27475f2"
      },
      "source": [
        "#Not efficient as u will never know which index contains what element unless u print \n",
        "set1 = {'apple', 'banana', 'cherry',\"orange\",\"kiwi\"}\n",
        "list1 = list(set1)\n",
        "print (list1)\n",
        "list1[0] = \"laddu\"\n",
        "set1 = set(list1)\n",
        "print(set1)\n",
        "\n",
        "# need 2 set and update using update()\n",
        "set1 = {\"a\",\"b\",\"c\"}\n",
        "set2 = {\"b\",\"c\",\"d\"}\n",
        "\n",
        "set1.update(set2)\n",
        "print(set1)\n",
        "print(set2)"
      ],
      "execution_count": null,
      "outputs": [
        {
          "output_type": "stream",
          "text": [
            "['apple', 'orange', 'cherry', 'kiwi', 'banana']\n",
            "{'orange', 'cherry', 'kiwi', 'banana', 'laddu'}\n",
            "{'d', 'b', 'a', 'c'}\n",
            "{'d', 'b', 'c'}\n"
          ],
          "name": "stdout"
        }
      ]
    },
    {
      "cell_type": "markdown",
      "metadata": {
        "id": "BIfQ8ZUUsRVv"
      },
      "source": [
        "# Set Add & Del"
      ]
    },
    {
      "cell_type": "code",
      "metadata": {
        "colab": {
          "base_uri": "https://localhost:8080/"
        },
        "id": "RhfN8PeOsUZD",
        "outputId": "18196143-55d8-47c4-8448-81e91bdd2f1c"
      },
      "source": [
        "#adding elements using add()\n",
        "set1 = {\"apple\", \"banana\", \"cherry\"}\n",
        "set1.add(\"orange\")\n",
        "print(set1)\n",
        "set1.add(\"melon\")\n",
        "print(set1)\n",
        "\n",
        "#deleting using remove()\n",
        "set1 = {\"apple\", \"banana\", \"cherry\"}\n",
        "set1.remove(\"apple\")\n",
        "print(set1)\n",
        "\n",
        "#remove() has limitation \n",
        "# set1 = {\"apple\", \"banana\", \"cherry\"}\n",
        "# set1.remove(\"apple1\")\n",
        "# print(set1)\n",
        "\n",
        "#remove using discard()\n",
        "set1 = {\"apple\", \"banana\", \"cherry\"}\n",
        "set1.discard(\"apple\")\n",
        "print(set1)\n",
        "#works whether the element exists or not\n",
        "set1.discard(\"NANI\")\n",
        "print (set1)\n",
        "\n",
        "#empty a set using clear()\n",
        "set1 = {\"apple\", \"banana\", \"cherry\"}\n",
        "set1.clear()\n",
        "print(set1)\n",
        "print(type(set1))"
      ],
      "execution_count": null,
      "outputs": [
        {
          "output_type": "stream",
          "text": [
            "{'cherry', 'orange', 'banana', 'apple'}\n",
            "{'melon', 'orange', 'cherry', 'banana', 'apple'}\n",
            "{'cherry', 'banana'}\n",
            "{'cherry', 'banana'}\n",
            "{'cherry', 'banana'}\n"
          ],
          "name": "stdout"
        }
      ]
    },
    {
      "cell_type": "markdown",
      "metadata": {
        "id": "i6Lug118wJ9I"
      },
      "source": [
        "# Set Functions (union/intersection/difference)"
      ]
    },
    {
      "cell_type": "code",
      "metadata": {
        "colab": {
          "base_uri": "https://localhost:8080/"
        },
        "id": "zbqvPVquwRJQ",
        "outputId": "5e9e47e2-5692-44cd-d02f-3d206c90d92b"
      },
      "source": [
        "set1 = {\"a\",\"b\",\"c\"}\n",
        "set2 = {\"b\",\"c\",\"d\"}\n",
        "#UNION\n",
        "#set3 =set1 | set2 <- using OR operator\n",
        "set3 = set1.union(set2)\n",
        "print(set1)\n",
        "print(set2)\n",
        "print(set3)\n",
        "\n",
        "#INTERSECTION\n",
        "set1 = {\"a\",\"b\",\"c\"}\n",
        "set2 = {\"b\",\"c\",\"d\"}\n",
        "#set3 = set1 & set2 <- using AND operator\n",
        "set3 = set1.intersection(set2)\n",
        "print(set3)\n",
        "\n",
        "set1.intersection_update(set2) #intersect and save at set1 at the same time\n",
        "print(set1)\n",
        "#DIFFERENCE\n",
        "set1 = {\"a\",\"b\",\"c\"}\n",
        "set2 = {\"b\",\"c\",\"d\"}\n",
        "set3 = set1 -set2\n",
        "#set3 =set1.difference(set2)\n",
        "print(set3)\n",
        "\n",
        "set1 = {\"a\",\"b\",\"c\"}\n",
        "set2 = {\"b\",\"c\",\"d\"}\n",
        "set1.difference_update(set2) #difference and save at set1 at same time\n",
        "print(set1)\n",
        "print(set2)"
      ],
      "execution_count": null,
      "outputs": [
        {
          "output_type": "stream",
          "text": [
            "{'c', 'a', 'b'}\n",
            "{'c', 'b', 'd'}\n",
            "{'b', 'd', 'c', 'a'}\n",
            "{'c', 'b'}\n",
            "{'c', 'b'}\n",
            "{'a'}\n"
          ],
          "name": "stdout"
        }
      ]
    },
    {
      "cell_type": "markdown",
      "metadata": {
        "id": "6yelRpnJ1nbP"
      },
      "source": [
        "# Set elemental check"
      ]
    },
    {
      "cell_type": "code",
      "metadata": {
        "colab": {
          "base_uri": "https://localhost:8080/"
        },
        "id": "XGv-wH2-1t9W",
        "outputId": "8bad5850-861f-4dba-8d85-48e49f33664a"
      },
      "source": [
        "set1 = {\"a\",\"b\",\"c\"}\n",
        "print(\"a\" in set1)\n",
        "print(\"a\" not in set1)\n",
        "\n",
        "set1 = {\"a\",\"b\",\"c\"}\n",
        "set2 = {\"a\",\"b\",\"c\",\"d\"}\n",
        "print(set1.issubset(set2))"
      ],
      "execution_count": null,
      "outputs": [
        {
          "output_type": "stream",
          "text": [
            "True\n",
            "False\n",
            "True\n"
          ],
          "name": "stdout"
        }
      ]
    },
    {
      "cell_type": "markdown",
      "metadata": {
        "id": "FuwuICjBtLVb"
      },
      "source": [
        "# Dictionary\n",
        "- Dictionary Creation\n",
        "- Dictionary Access and Printing\n",
        "- Dictionary Update/add/del\n",
        "- Dictionary Sorting\n",
        "\n"
      ]
    },
    {
      "cell_type": "markdown",
      "metadata": {
        "id": "H8NGO_EZtWPJ"
      },
      "source": [
        "# Dictionary Creation"
      ]
    },
    {
      "cell_type": "code",
      "metadata": {
        "colab": {
          "base_uri": "https://localhost:8080/"
        },
        "id": "FcnerItptYz5",
        "outputId": "1e454b28-3ac3-48e2-b075-a5bd02e60ba6"
      },
      "source": [
        "CT1 = {\n",
        "    \"19101001\":20,\n",
        "    \"19101002\":18,\n",
        "    \"19101003\":19,\n",
        "    \"19101004\":16\n",
        "}\n",
        "print(CT1[\"19101004\"])\n",
        "# the limitation is if cant find the key it will represent as error\n",
        "# to avoid it we will use get()\n",
        "print(CT1.get(\"19101005\"))\n",
        "print(type(CT1))\n",
        "print(CT1.keys()) #TO CHECK KEYS\n",
        "print(CT1.values()) #TO CHECK VALUES\n",
        "print(CT1.items()) #TO CHECK DICTIONARY AS ITEMS\n"
      ],
      "execution_count": null,
      "outputs": [
        {
          "output_type": "stream",
          "text": [
            "16\n",
            "None\n",
            "<class 'dict'>\n",
            "dict_keys(['19101001', '19101002', '19101003', '19101004'])\n",
            "dict_values([20, 18, 19, 16])\n",
            "dict_items([('19101001', 20), ('19101002', 18), ('19101003', 19), ('19101004', 16)])\n"
          ],
          "name": "stdout"
        }
      ]
    },
    {
      "cell_type": "markdown",
      "metadata": {
        "id": "8tPop25L6CVr"
      },
      "source": [
        "# Dictionary Access and printing"
      ]
    },
    {
      "cell_type": "code",
      "metadata": {
        "colab": {
          "base_uri": "https://localhost:8080/"
        },
        "id": "F2kgYxIi6L2C",
        "outputId": "6bb4803a-bec7-4b7f-e4ac-28f9f86a041f"
      },
      "source": [
        "CT1 = {\n",
        "    \"19101001\":20,\n",
        "    \"19101002\":18,\n",
        "    \"19101003\":19,\n",
        "    \"19101004\":16\n",
        "}\n",
        "for key in CT1.keys():\n",
        "  print(key,\" : \", CT1[key]) #here printing key also using [key] for indexing\n",
        "\n",
        "for value in CT1.values():\n",
        "  print(value)\n",
        "for item in CT1.items():\n",
        "  print(item)"
      ],
      "execution_count": null,
      "outputs": [
        {
          "output_type": "stream",
          "text": [
            "19101001  :  20\n",
            "19101002  :  18\n",
            "19101003  :  19\n",
            "19101004  :  16\n",
            "20\n",
            "18\n",
            "19\n",
            "16\n",
            "('19101001', 20)\n",
            "('19101002', 18)\n",
            "('19101003', 19)\n",
            "('19101004', 16)\n"
          ],
          "name": "stdout"
        }
      ]
    },
    {
      "cell_type": "code",
      "metadata": {
        "id": "Q9sX0Bfuh98n"
      },
      "source": [
        "#creating multiple dictionary and place them in another dictionary and access them \n",
        "m1 = {\n",
        "    \"brand\": \"samsung\",\n",
        "    \"model\": \"M21\",\n",
        "    \"year\" : 2020\n",
        "}\n",
        "m2 = {\n",
        "    \"brand\": \"nokia\",\n",
        "    \"model\": \"3110\",\n",
        "    \"year\" : 2000\n",
        "}\n",
        "\n",
        "dict1 = {\n",
        "    \"mobile1\":m1,\n",
        "    \"mobile2\":m2\n",
        "}\n",
        "\n",
        "print(dict1[\"mobile1\"][\"brand\"])"
      ],
      "execution_count": null,
      "outputs": []
    },
    {
      "cell_type": "code",
      "metadata": {
        "id": "a6GzY3najRIk"
      },
      "source": [
        "#Using a dictionary with nested keys and access them \n",
        "dict1 = {\n",
        "    \"mobile1\":{\n",
        "                  \"brand\": \"samsung\",\n",
        "                  \"model\": \"M21\",\n",
        "                  \"year\" : 2020\n",
        "              },\n",
        "    \"mobile2\":{\n",
        "                  \"brand\": \"nokia\",\n",
        "                  \"model\": \"3110\",\n",
        "                  \"year\" : 2000\n",
        "              }\n",
        "}\n",
        "\n",
        "print(dict1[\"mobile1\"][\"brand\"])"
      ],
      "execution_count": null,
      "outputs": []
    },
    {
      "cell_type": "code",
      "metadata": {
        "colab": {
          "base_uri": "https://localhost:8080/"
        },
        "id": "yvFwxg67CFSY",
        "outputId": "94382c1d-1a37-44f7-83c2-9b45f9bd525e"
      },
      "source": [
        "CT1 = {\n",
        "    \"19101001\":20,\n",
        "    \"19101002\":18,\n",
        "    \"19101003\":19,\n",
        "    \"19101004\":16\n",
        "}\n",
        "\n",
        "for key,value in CT1.items():\n",
        "  print(key,\" : \",value)"
      ],
      "execution_count": null,
      "outputs": [
        {
          "output_type": "stream",
          "text": [
            "19101001  :  20\n",
            "19101002  :  18\n",
            "19101003  :  19\n",
            "19101004  :  16\n"
          ],
          "name": "stdout"
        }
      ]
    },
    {
      "cell_type": "markdown",
      "metadata": {
        "id": "EHIjxGRXFaxy"
      },
      "source": [
        "# Dictionary Update/add/del"
      ]
    },
    {
      "cell_type": "code",
      "metadata": {
        "colab": {
          "base_uri": "https://localhost:8080/"
        },
        "id": "U6TNAwKOFu-k",
        "outputId": "1919b824-e38b-4066-bbf5-3360673dcbf5"
      },
      "source": [
        "#updating by accessing key\n",
        "dict1 = {\n",
        "    \"brand\": \"samsung\",\n",
        "    \"model\": \"M21\",\n",
        "    \"year\" : 2020\n",
        "}\n",
        "\n",
        "dict1[\"year\"] =2021 \n",
        "print(dict1)\n",
        "\n",
        "# adding keys with it's values\n",
        "# dict1[\"color\"] = \"black\"\n",
        "# dict1[\"price\"] = 18500\n",
        "dict1.update({\"color\": \"black\",\"price\":18500}) #<- updating using update()\n",
        "print(dict1)\n",
        "\n",
        "#deleting using pop()\n",
        "dict1.pop(\"color\")\n",
        "print(dict1)\n",
        "\n",
        "#deleting the last item using popitem()\n",
        "dict1.popitem()\n",
        "print(dict1)\n",
        "\n",
        "# deleting usign del\n",
        "del dict1[\"brand\"]\n",
        "print(dict1)\n",
        "\n",
        "#clearing dictionary\n",
        "dict1.clear()\n",
        "print(dict1)\n",
        "\n",
        "# to delete the Dictionarys's existence \n",
        "del dict1\n",
        "#print(dict1) <- this will show error as it will say \"dict1\" is not defined \n"
      ],
      "execution_count": null,
      "outputs": [
        {
          "output_type": "stream",
          "text": [
            "{'brand': 'samsung', 'model': 'M21', 'year': 2021}\n",
            "{'brand': 'samsung', 'model': 'M21', 'year': 2021, 'color': 'black', 'price': 18500}\n",
            "{'brand': 'samsung', 'model': 'M21', 'year': 2021, 'price': 18500}\n",
            "{'brand': 'samsung', 'model': 'M21', 'year': 2021}\n",
            "{'model': 'M21', 'year': 2021}\n",
            "{}\n"
          ],
          "name": "stdout"
        }
      ]
    },
    {
      "cell_type": "markdown",
      "metadata": {
        "id": "MZWGdzKZdKX_"
      },
      "source": [
        "# Dctionary sorting"
      ]
    },
    {
      "cell_type": "code",
      "metadata": {
        "id": "cA0q6-2XdPhX"
      },
      "source": [
        "dict1 = {\n",
        "    3:100,\n",
        "    1:200,\n",
        "    2:300\n",
        "}\n",
        "\n",
        "x = list(dict1.keys())\n",
        "x.sort()\n",
        "\n",
        "dict2 ={}\n",
        "for key in x:\n",
        "  dict2[key] = dict1[key]\n",
        "print(dict2)"
      ],
      "execution_count": null,
      "outputs": []
    },
    {
      "cell_type": "markdown",
      "metadata": {
        "id": "WA3u-cyD2m6e"
      },
      "source": [
        "# If elif"
      ]
    },
    {
      "cell_type": "markdown",
      "metadata": {
        "id": "f9OA0tky4W50"
      },
      "source": [
        "# Implementation"
      ]
    },
    {
      "cell_type": "code",
      "metadata": {
        "id": "ZTRY6GaM3jZf"
      },
      "source": [
        "#Implementation examples\n",
        "a = int(input())\n",
        "b = int(input())\n",
        "\n",
        "if a>b:\n",
        "  print(\"a is greater than b\")\n",
        "\n",
        "#Implementation examples for if elif\n",
        "a = int(input())\n",
        "b = int(input())\n",
        "\n",
        "if a>b:\n",
        "  print(\"a is greater than b\")\n",
        "elif a == b:\n",
        "  print(\"a is equal to b\")\n",
        "\n",
        "#implementation example for if elif & else\n",
        "a = int(input())\n",
        "b = int(input())\n",
        "\n",
        "if a>b:\n",
        "  print(\"a is greater than b\")\n",
        "elif a == b:\n",
        "  print(\"a is equal to b\")\n",
        "else:\n",
        "  print(\"a is less than b\")"
      ],
      "execution_count": null,
      "outputs": []
    },
    {
      "cell_type": "markdown",
      "metadata": {
        "id": "49V62WkC48Hg"
      },
      "source": [
        "# Short Hand If\n",
        "\n",
        "Pattern: task if (condition)"
      ]
    },
    {
      "cell_type": "code",
      "metadata": {
        "id": "5iw9iQDV5CDA"
      },
      "source": [
        "a = int(input())\n",
        "b = int(input())\n",
        "\n",
        "if a>b:print(\"a is greater than b\")"
      ],
      "execution_count": null,
      "outputs": []
    },
    {
      "cell_type": "code",
      "metadata": {
        "id": "kr81O7Ze79pQ"
      },
      "source": [
        ""
      ],
      "execution_count": null,
      "outputs": []
    },
    {
      "cell_type": "markdown",
      "metadata": {
        "id": "uiuXf26u5QCH"
      },
      "source": [
        "# Short Hand if else\n",
        "Pattern: task if (conditon) else task"
      ]
    },
    {
      "cell_type": "code",
      "metadata": {
        "id": "maYeGIDZ5lav"
      },
      "source": [
        "a = int(input())\n",
        "b = int(input())\n",
        "\n",
        "print(a) if a>b else print(b)"
      ],
      "execution_count": null,
      "outputs": []
    },
    {
      "cell_type": "markdown",
      "metadata": {
        "id": "yuh5EhlV59k2"
      },
      "source": [
        "# Short Hand if elif(else...if) else\n",
        "Pattern:\n",
        "task if (conditon) else task if (condition) else task\n"
      ]
    },
    {
      "cell_type": "code",
      "metadata": {
        "colab": {
          "base_uri": "https://localhost:8080/"
        },
        "id": "R5e1Z9Kd6A7-",
        "outputId": "a323839d-425a-4a86-9af1-0138b3dcef05"
      },
      "source": [
        "a = int(input())\n",
        "b = int(input())\n",
        "\n",
        "print(\"a is greater than b\") if a>b else print(\"a is equal b\") if a==b else print(\"a is less than b\")"
      ],
      "execution_count": null,
      "outputs": [
        {
          "output_type": "stream",
          "text": [
            "15\n",
            "15\n",
            "a is equal b\n"
          ],
          "name": "stdout"
        }
      ]
    },
    {
      "cell_type": "markdown",
      "metadata": {
        "id": "cEKCdSED8IHj"
      },
      "source": [
        "# If Else using operators(Or, And)\n",
        "\n",
        "if condition1 or condition2:\n",
        "  task1\n",
        "if condition1 and condition2:\n",
        "  task1"
      ]
    },
    {
      "cell_type": "code",
      "metadata": {
        "colab": {
          "base_uri": "https://localhost:8080/"
        },
        "id": "0BBx4ocI8PKC",
        "outputId": "9b5737f2-3c19-4345-dfa6-8024dd905c03"
      },
      "source": [
        "a = int(input())\n",
        "b = int(input())\n",
        "c = int(input())\n",
        "\n",
        "print(\"a is largest\") if a>b and a>c else print(\"b is largest\") if b>a and b>c else print(\"c is largest\")"
      ],
      "execution_count": null,
      "outputs": [
        {
          "output_type": "stream",
          "text": [
            "15\n",
            "20\n",
            "30\n",
            "c is largest\n"
          ],
          "name": "stdout"
        }
      ]
    },
    {
      "cell_type": "markdown",
      "metadata": {
        "id": "BkLFvzUP-ive"
      },
      "source": [
        "# Nested If"
      ]
    },
    {
      "cell_type": "code",
      "metadata": {
        "id": "9yn1tXKZ_R1_"
      },
      "source": [
        "a = int(input())\n",
        "b = int(input())\n",
        "c = int(input())\n",
        "\n",
        "if a>b:\n",
        "  if a>c:\n",
        "    print(a)\n",
        "  else:\n",
        "    print(c)\n",
        "else:\n",
        "  if b>c:\n",
        "    print(b)\n",
        "  else:\n",
        "    print(c)"
      ],
      "execution_count": null,
      "outputs": []
    },
    {
      "cell_type": "markdown",
      "metadata": {
        "id": "PULXFBwY_TA9"
      },
      "source": [
        "# Use of PASS"
      ]
    },
    {
      "cell_type": "code",
      "metadata": {
        "id": "YSMf0-_1_WBn"
      },
      "source": [
        "a = int(input())\n",
        "b = int(input())\n",
        "\n",
        "if a>b:\n",
        "  pass\n",
        "print(\"onno kaje\")"
      ],
      "execution_count": null,
      "outputs": []
    },
    {
      "cell_type": "markdown",
      "metadata": {
        "id": "HWabihSfBII-"
      },
      "source": [
        "# Looping While"
      ]
    },
    {
      "cell_type": "code",
      "metadata": {
        "colab": {
          "base_uri": "https://localhost:8080/"
        },
        "id": "UxzjtxkiBNDk",
        "outputId": "143db053-6ecc-4cd8-afa7-fae6ac7615a7"
      },
      "source": [
        "i = 1\n",
        "while i<=5:\n",
        "  print(i)\n",
        "  i+=1\n",
        "\n",
        "a = 1\n"
      ],
      "execution_count": null,
      "outputs": [
        {
          "output_type": "stream",
          "text": [
            "1\n",
            "2\n",
            "3\n",
            "4\n",
            "5\n"
          ],
          "name": "stdout"
        }
      ]
    },
    {
      "cell_type": "markdown",
      "metadata": {
        "id": "p6GzyJuyD814"
      },
      "source": [
        "# Looping For"
      ]
    },
    {
      "cell_type": "code",
      "metadata": {
        "colab": {
          "base_uri": "https://localhost:8080/"
        },
        "id": "Ujq9Egj1D_na",
        "outputId": "4d66ea44-22d3-4b3f-fa01-5ca06eb639af"
      },
      "source": [
        "#range (starting, ending, incremantation)\n",
        "for i in range(1,6,2):\n",
        "  print(i)\n",
        "\n",
        "for i in range(6,0,-1):\n",
        "  print(i)"
      ],
      "execution_count": null,
      "outputs": [
        {
          "output_type": "stream",
          "text": [
            "1\n",
            "3\n",
            "5\n",
            "6\n",
            "5\n",
            "4\n",
            "3\n",
            "2\n",
            "1\n"
          ],
          "name": "stdout"
        }
      ]
    },
    {
      "cell_type": "markdown",
      "metadata": {
        "id": "ZJS5bLeNFsoH"
      },
      "source": [
        "# Continue"
      ]
    },
    {
      "cell_type": "code",
      "metadata": {
        "colab": {
          "base_uri": "https://localhost:8080/"
        },
        "id": "3rA6zLD6GP0H",
        "outputId": "cd906325-2fd3-469c-c0de-36892a37c6c3"
      },
      "source": [
        "i = 1\n",
        "while i<=5:\n",
        "  if i==2:\n",
        "    i+=1\n",
        "    continue\n",
        "  print(i)\n",
        "  i+=1"
      ],
      "execution_count": null,
      "outputs": [
        {
          "output_type": "stream",
          "text": [
            "1\n",
            "3\n",
            "4\n",
            "5\n"
          ],
          "name": "stdout"
        }
      ]
    },
    {
      "cell_type": "markdown",
      "metadata": {
        "id": "GJo7F7lBGa1E"
      },
      "source": [
        "# Break"
      ]
    },
    {
      "cell_type": "code",
      "metadata": {
        "id": "6xTpgJgjGiH2"
      },
      "source": [
        "i = 1\n",
        "while i<=5:\n",
        "  if i==3:\n",
        "    break\n",
        "  print(i)\n",
        "  i+=1"
      ],
      "execution_count": null,
      "outputs": []
    },
    {
      "cell_type": "markdown",
      "metadata": {
        "id": "k0bwg9TjGoEN"
      },
      "source": [
        "# Nested Loop"
      ]
    },
    {
      "cell_type": "code",
      "metadata": {
        "colab": {
          "base_uri": "https://localhost:8080/"
        },
        "id": "s3dSACYnHCRe",
        "outputId": "33e328da-c6b4-4079-88ea-3794606ca93c"
      },
      "source": [
        "n = int(input())\n",
        "for i in range(1,n+1):\n",
        "  for j  in range(1,i+1):\n",
        "    print(\"*\", end= \"\")\n",
        "  print()"
      ],
      "execution_count": null,
      "outputs": [
        {
          "output_type": "stream",
          "text": [
            "5\n",
            "*\n",
            "**\n",
            "***\n",
            "****\n",
            "*****\n"
          ],
          "name": "stdout"
        }
      ]
    },
    {
      "cell_type": "markdown",
      "metadata": {
        "id": "-iH-RU51ULm2"
      },
      "source": [
        "# String\n",
        "- Index\n",
        "- Slicing \n",
        "- Related Function\n",
        "- String Count \n",
        "- String Find\n",
        "- String Replace\n",
        "- String Concat\n"
      ]
    },
    {
      "cell_type": "markdown",
      "metadata": {
        "id": "i4toxDGCVNO3"
      },
      "source": [
        "# String Index & Slicing \n"
      ]
    },
    {
      "cell_type": "code",
      "metadata": {
        "id": "ZtfUdaDgVLhE",
        "colab": {
          "base_uri": "https://localhost:8080/"
        },
        "outputId": "cef9e122-8d7a-4245-cda2-a4dd3605fe36"
      },
      "source": [
        "message = \"hello world\"\n",
        "#Indexing\n",
        "print(message[0])\n",
        "print(message[-1])\n",
        "#slicing\n",
        "print(message[2:4])\n",
        "print(message[:3])\n",
        "print(message[6:])\n",
        "print(message[-5:])"
      ],
      "execution_count": null,
      "outputs": [
        {
          "output_type": "stream",
          "text": [
            "h\n",
            "d\n",
            "ll\n",
            "hel\n",
            "world\n",
            "world\n"
          ],
          "name": "stdout"
        }
      ]
    },
    {
      "cell_type": "markdown",
      "metadata": {
        "id": "x1p6atVzV-rB"
      },
      "source": [
        "# String related functions\n",
        "Len, lower, upper"
      ]
    },
    {
      "cell_type": "code",
      "metadata": {
        "colab": {
          "base_uri": "https://localhost:8080/"
        },
        "id": "Z_c7b0HuWboc",
        "outputId": "79ce5437-ff8b-418d-9388-47eba4b031e9"
      },
      "source": [
        "message =\"hello world\"\n",
        "\n",
        "print(len(message))\n",
        "print(message.lower())\n",
        "print(message.upper())"
      ],
      "execution_count": null,
      "outputs": [
        {
          "output_type": "stream",
          "text": [
            "11\n",
            "hello world\n",
            "HELLO WORLD\n"
          ],
          "name": "stdout"
        }
      ]
    },
    {
      "cell_type": "markdown",
      "metadata": {
        "id": "u4C6SqwMWhmS"
      },
      "source": [
        "# String Count, Find & Replace"
      ]
    },
    {
      "cell_type": "code",
      "metadata": {
        "colab": {
          "base_uri": "https://localhost:8080/"
        },
        "id": "fUrBWERxWpDh",
        "outputId": "0a2ee8e7-b512-4b64-bb36-1a5684fca0d2"
      },
      "source": [
        "message = \"hello world\"\n",
        "\n",
        "print(message.count(\"l\")) #it counts how many l \n",
        "\n",
        "print(message.find(\"World\")) #find the particular and represent out as bool (case Sensitive)\n",
        "\n",
        "print(message.replace(\"world\",\"universe\"))\n",
        "print(message.replace(\"l\",\"x\"))"
      ],
      "execution_count": null,
      "outputs": [
        {
          "output_type": "stream",
          "text": [
            "3\n",
            "-1\n",
            "hello universe\n",
            "hexxo worxd\n"
          ],
          "name": "stdout"
        }
      ]
    },
    {
      "cell_type": "markdown",
      "metadata": {
        "id": "Zas1ovnrhglL"
      },
      "source": [
        "# String Concat"
      ]
    },
    {
      "cell_type": "code",
      "metadata": {
        "colab": {
          "base_uri": "https://localhost:8080/"
        },
        "id": "qDtTIzWnhjwi",
        "outputId": "698b423f-4d3c-4667-9909-13731310468f"
      },
      "source": [
        "a  =\"hello\"\n",
        "b = \"world\"\n",
        "c = a + \" \"+b\n",
        "print(c)\n",
        "c = f\"{a} {b}\"\n",
        "print(c)"
      ],
      "execution_count": null,
      "outputs": [
        {
          "output_type": "stream",
          "text": [
            "hello world\n",
            "hello world\n"
          ],
          "name": "stdout"
        }
      ]
    },
    {
      "cell_type": "code",
      "metadata": {
        "id": "sKRca9egiEqi"
      },
      "source": [
        "print(help(str.find))"
      ],
      "execution_count": null,
      "outputs": []
    },
    {
      "cell_type": "markdown",
      "metadata": {
        "id": "WjOaO44nMPog"
      },
      "source": [
        "# Function\n"
      ]
    },
    {
      "cell_type": "markdown",
      "metadata": {
        "id": "4SFtLidJWC9E"
      },
      "source": [
        "# Creating Function"
      ]
    },
    {
      "cell_type": "code",
      "metadata": {
        "colab": {
          "base_uri": "https://localhost:8080/"
        },
        "id": "ZzMViHUWN016",
        "outputId": "b6449492-5a08-493d-d23a-9196f124e55e"
      },
      "source": [
        "def func():\n",
        "  print(\"hello world\")\n",
        "\n",
        "func()"
      ],
      "execution_count": null,
      "outputs": [
        {
          "output_type": "stream",
          "text": [
            "hello world\n"
          ],
          "name": "stdout"
        }
      ]
    },
    {
      "cell_type": "code",
      "metadata": {
        "colab": {
          "base_uri": "https://localhost:8080/"
        },
        "id": "Lr7NO0sdV3ie",
        "outputId": "a0883dcc-76cb-4657-d03f-c0b5de9eceef"
      },
      "source": [
        "def func(first_name, last_name):\n",
        "  print(\"hello \",first_name,\" \",last_name)\n",
        "\n",
        "func(\"afroz\",\"jahan\")"
      ],
      "execution_count": null,
      "outputs": [
        {
          "output_type": "stream",
          "text": [
            "hello  afroz   jahan\n"
          ],
          "name": "stdout"
        }
      ]
    },
    {
      "cell_type": "markdown",
      "metadata": {
        "id": "RMwkYpvPy37o"
      },
      "source": [
        "# Arguments\n",
        "-Function- Argument\n",
        "\n",
        "-Arbitrary Argument\n",
        "\n",
        "-More Programmer-friendly Arbitrary Argument\n",
        "\n",
        "-Function: Passing List as Argument\n",
        "\n",
        "-Function return\n"
      ]
    },
    {
      "cell_type": "markdown",
      "metadata": {
        "id": "dBMCHFMdaLDL"
      },
      "source": [
        "Function- Argument\n"
      ]
    },
    {
      "cell_type": "code",
      "metadata": {
        "id": "qOK0Yk5Oy8ln",
        "colab": {
          "base_uri": "https://localhost:8080/"
        },
        "outputId": "aa5599d9-fc6a-4996-c290-465cc86ac522"
      },
      "source": [
        "# here func will take name as an argument\n",
        "def func(name):\n",
        "  print(\"hello \",name)\n",
        "\n",
        "func(\"Apon\")\n",
        "# Multiple argument in a function\n",
        "def func(first_name, last_name):\n",
        "  print(\"hello \",first_name,\" \",last_name)\n",
        "\n",
        "func(\"afroz\",\"jahan\")\n",
        "\n",
        "def func(first_name, last_name, roll):\n",
        "  print(\"hello \",first_name,last_name, \"Roll: \", roll )\n",
        "#ignoring input serial by accessing directly throgh argument\n",
        "func(roll = \"19101031\", first_name = \"Farhan\", last_name = \"Labeeb\")"
      ],
      "execution_count": null,
      "outputs": [
        {
          "output_type": "stream",
          "name": "stdout",
          "text": [
            "hello  Apon\n",
            "hello  afroz   jahan\n",
            "hello  Farhan Labeeb Roll:  19101031\n"
          ]
        }
      ]
    },
    {
      "cell_type": "markdown",
      "metadata": {
        "id": "ArU4H1Aga0F-"
      },
      "source": [
        "Arbitrary Argument"
      ]
    },
    {
      "cell_type": "code",
      "metadata": {
        "colab": {
          "base_uri": "https://localhost:8080/"
        },
        "id": "u5dod_JRazm5",
        "outputId": "bb308e38-f1c0-4f54-aa40-d6dcd2bb9bc7"
      },
      "source": [
        "# def func(*augs):\n",
        "#    print(augs[0],augs[1])\n",
        "# Example:\n",
        "def func(*students):\n",
        "  print(students[1])\n",
        "  print(list(students))\n",
        "\n",
        "func(\"afroz\",\"foysal\",\"tonmoy\")\n",
        "\n",
        "def func(first_name, last_name,roll,cgpa):\n",
        "  print(\"hello \",first_name,\" \",last_name, \" roll: \",roll, \" cgpa: \",cgpa)\n",
        "\n",
        "func(roll = 11, last_name = \"jahan\", first_name=\"afroz\",cgpa = 3.81)"
      ],
      "execution_count": null,
      "outputs": [
        {
          "output_type": "stream",
          "text": [
            "foysal\n",
            "['afroz', 'foysal', 'tonmoy']\n"
          ],
          "name": "stdout"
        }
      ]
    },
    {
      "cell_type": "markdown",
      "metadata": {
        "id": "SN74KUsmbr4J"
      },
      "source": [
        "More User-friendly Arbitrary Argument"
      ]
    },
    {
      "cell_type": "code",
      "metadata": {
        "id": "O6NroW1_bvuF"
      },
      "source": [
        "\n",
        "def func(**student): #taking student as an arbitrary argument\n",
        "  print(\"hello \",student[\"first_name\"], \" \",student[\"last_name\"],\" Roll: \",student[\"roll\"],\" cgpa\",student[\"cgpa\"])\n",
        "  #implementing argument[vairable]\n",
        "\n",
        "func(roll = 11, last_name = \"jahan\", first_name=\"afroz\",cgpa = 3.81)"
      ],
      "execution_count": null,
      "outputs": []
    },
    {
      "cell_type": "markdown",
      "metadata": {
        "id": "baBuatoVUbMM"
      },
      "source": [
        "**Function:** Passing List as Argument"
      ]
    },
    {
      "cell_type": "code",
      "metadata": {
        "id": "hdypfOUIUl6j"
      },
      "source": [
        "#Example 1\n",
        "def func(list1):\n",
        "  for i in list1:\n",
        "    print(i)\n",
        "\n",
        "list2 = [\"a\",\"b\",\"c\"]\n",
        "\n",
        "func(list1)\n",
        "#Example 2\n",
        "def func(list1):\n",
        "  list1[0] = \"d\"\n",
        "\n",
        "list2 = [\"a\",\"b\",\"c\"]\n",
        "\n",
        "func(list2)\n",
        "\n",
        "print(list2)\n",
        "\n",
        "#Example 3\n",
        "def func(list1):\n",
        "  list1 = list1.copy()\n",
        "  list1[0] = \"d\"\n",
        "\n",
        "  return list1\n",
        "\n",
        "list2 = [\"a\",\"b\",\"c\"]\n",
        "\n",
        "list3 = func(list2)\n",
        "\n",
        "print(list2)\n",
        "print(list3)"
      ],
      "execution_count": null,
      "outputs": []
    },
    {
      "cell_type": "markdown",
      "metadata": {
        "id": "cbLemRRlWp_J"
      },
      "source": [
        "# Function Return"
      ]
    },
    {
      "cell_type": "code",
      "metadata": {
        "id": "Ukxcq7M0W1df"
      },
      "source": [
        "# example of multiple return \n",
        "def func(x,y):\n",
        "  return x+y,x*y\n",
        "\n",
        "sum,multi = func(10,20)\n",
        "print(sum,multi)"
      ],
      "execution_count": null,
      "outputs": []
    },
    {
      "cell_type": "markdown",
      "metadata": {
        "id": "_WDaT4GjcCPv"
      },
      "source": [
        "# Lambda\n",
        "- Use and implementation"
      ]
    },
    {
      "cell_type": "markdown",
      "metadata": {
        "id": "AoIuIxYYcIie"
      },
      "source": [
        "# Lamda: Use & Implementation"
      ]
    },
    {
      "cell_type": "code",
      "metadata": {
        "id": "jzIT8JczcN9d"
      },
      "source": [
        "x = lambda a : a+10\n",
        "add_10 = x \n",
        "add_10_v2 = x\n",
        "print(add_10(20))\n",
        "print(add_10_v2(20))"
      ],
      "execution_count": null,
      "outputs": []
    },
    {
      "cell_type": "code",
      "metadata": {
        "id": "skmRY9Mb0pjP"
      },
      "source": [
        "def func1(multiplier):\n",
        "  return lambda a: a*multiplier\n",
        "\n",
        "double_function = func1(2) #x = lambda a: a*2\n",
        "print(double_function(5))\n",
        "\n",
        "tuiple_function = func1(3) #x = lambda a: a*3\n",
        "print(tuiple_function(5))\n",
        "\n",
        "tenth_function = func1(10) #x = lambda a: a*10\n",
        "print(tenth_function(5))"
      ],
      "execution_count": null,
      "outputs": []
    },
    {
      "cell_type": "markdown",
      "metadata": {
        "id": "k1Rqmdiep7bc"
      },
      "source": [
        "# MAP"
      ]
    },
    {
      "cell_type": "markdown",
      "metadata": {
        "id": "7QwVdww7p9TQ"
      },
      "source": [
        "# Map Implementation\n"
      ]
    },
    {
      "cell_type": "code",
      "metadata": {
        "colab": {
          "base_uri": "https://localhost:8080/"
        },
        "id": "NqTGmviOqCTA",
        "outputId": "ed47edfc-411f-4c3a-a6b8-54b39f175c0a"
      },
      "source": [
        "#implemention of map by creating & using function\n",
        "def func(a):\n",
        "  return a+7\n",
        "\n",
        "lst = [1,2,3]\n",
        "list(map(func , lst))\n",
        "\n",
        "#pattern\n",
        "# DataType_as_Output(map(Function, iterative element(e: List,Tupple etc)))\n"
      ],
      "execution_count": null,
      "outputs": [
        {
          "output_type": "execute_result",
          "data": {
            "text/plain": [
              "[8, 9, 10]"
            ]
          },
          "metadata": {},
          "execution_count": 1
        }
      ]
    },
    {
      "cell_type": "markdown",
      "metadata": {
        "id": "1TkooVK7JSQA"
      },
      "source": [
        "**map and lambda expression (Summation of 2 list)**"
      ]
    },
    {
      "cell_type": "code",
      "metadata": {
        "colab": {
          "base_uri": "https://localhost:8080/"
        },
        "id": "hvk8NoW1KOHI",
        "outputId": "4d198aef-ef36-46a0-e02e-c843c3120b40"
      },
      "source": [
        "numbers1 = [1, 2, 3]\n",
        "numbers2 = [4, 5, 6]\n",
        "  \n",
        "result = map(lambda x, y: x + y, numbers1, numbers2)\n",
        "#Variable(Result) = map(Lamda variable1(x),variable2(y) : state(x+y), list1(numbers1), list2(numbers2))\n",
        "print(list(result))"
      ],
      "execution_count": null,
      "outputs": [
        {
          "output_type": "stream",
          "name": "stdout",
          "text": [
            "[5, 7, 9]\n"
          ]
        }
      ]
    },
    {
      "cell_type": "markdown",
      "metadata": {
        "id": "9GDvFFYgPg0B"
      },
      "source": [
        "**Converting to string to List using map()**"
      ]
    },
    {
      "cell_type": "code",
      "metadata": {
        "colab": {
          "base_uri": "https://localhost:8080/"
        },
        "id": "0z2T-HMzPqdi",
        "outputId": "00202b07-de17-44b8-912b-f098e5a5aa30"
      },
      "source": [
        "# List of strings\n",
        "l = ['sat', 'bat', 'cat', 'mat']\n",
        "  \n",
        "# map() can listify the list of strings individually\n",
        "test = list(map(list, l))\n",
        "#variable = Typecast(map(type, iterative variables))\n",
        "print(test)"
      ],
      "execution_count": null,
      "outputs": [
        {
          "output_type": "stream",
          "name": "stdout",
          "text": [
            "[['s', 'a', 't'], ['b', 'a', 't'], ['c', 'a', 't'], ['m', 'a', 't']]\n"
          ]
        }
      ]
    },
    {
      "cell_type": "markdown",
      "metadata": {
        "id": "zmYm43s7PzSx"
      },
      "source": [
        "# **Class**\n",
        "\n",
        "* Implementation of calss and how to use it \n",
        "* Constructor \n",
        "* Instance  Method\n",
        "* Class, instructor, Instance & Object\n",
        "* Further Example of Instance Variable \n",
        "\n",
        "\n",
        "\n",
        "  "
      ]
    },
    {
      "cell_type": "markdown",
      "metadata": {
        "id": "A4RTQ609SDl2"
      },
      "source": [
        "# Implemention of class and how to use it "
      ]
    },
    {
      "cell_type": "code",
      "metadata": {
        "colab": {
          "base_uri": "https://localhost:8080/"
        },
        "id": "uubdKJ_JSI1V",
        "outputId": "925facb5-be55-40cd-ac87-18db011f8575"
      },
      "source": [
        "#Creating a class\n",
        "class student:\n",
        "  roll = \"\"\n",
        "  GPA = \"\"\n",
        "#Using a class by making object\n",
        "Rahim  = student()\n",
        "# to verify that rahimg(or whatever a variable) is an object or not\n",
        "print(isinstance(Rahim, student))\n",
        "#Using the properties of class through Rahim\n",
        "\n",
        "Rahim.roll = 19101069\n",
        "Rahim.GPA = 3.69\n",
        "#Printing through class\n",
        "print(f\"Roll : {Rahim.roll}\\nGPA : {Rahim.GPA}\" )"
      ],
      "execution_count": null,
      "outputs": [
        {
          "output_type": "stream",
          "name": "stdout",
          "text": [
            "True\n",
            "Roll : 19101069\n",
            "GPA : 3.69\n"
          ]
        }
      ]
    },
    {
      "cell_type": "markdown",
      "metadata": {
        "id": "XRgGTBqNO8xV"
      },
      "source": [
        "# Constructor"
      ]
    },
    {
      "cell_type": "code",
      "metadata": {
        "id": "TVUsexw9O_Id"
      },
      "source": [
        "#Creating Constructor\n",
        "class Student:\n",
        "  def __init__(self):\n",
        "    print(\"constructor has been called\") \n",
        "\n",
        "std1 = Student()\n",
        "std2 = Student()"
      ],
      "execution_count": null,
      "outputs": []
    },
    {
      "cell_type": "markdown",
      "metadata": {
        "id": "vsiUoYHnP539"
      },
      "source": [
        "# Instance"
      ]
    },
    {
      "cell_type": "code",
      "metadata": {
        "id": "gkgkwT1fP7xE"
      },
      "source": [
        "class Student:\n",
        "  def __init__(self):\n",
        "    self.name = \"guest\"\n",
        "    self.age = -1\n",
        "\n",
        "std1 = Student()\n",
        "print(std1.name)\n",
        "print(std1.age)\n",
        "\n"
      ],
      "execution_count": null,
      "outputs": []
    },
    {
      "cell_type": "code",
      "metadata": {
        "colab": {
          "base_uri": "https://localhost:8080/"
        },
        "id": "LIDyEvbIRgii",
        "outputId": "a630c97b-2d18-4e0b-83b5-ad3df6b32634"
      },
      "source": [
        "class Student:\n",
        "  def __init__(self):\n",
        "    self.name = input()\n",
        "    self.age = int(input())\n",
        "\n",
        "STD = Student()\n",
        "print(STD.name)\n",
        "print(STD.age)"
      ],
      "execution_count": null,
      "outputs": [
        {
          "output_type": "stream",
          "name": "stdout",
          "text": [
            "Apon\n",
            "22\n",
            "Apon\n",
            "22\n"
          ]
        }
      ]
    },
    {
      "cell_type": "markdown",
      "metadata": {
        "id": "e1wt7srgSIXI"
      },
      "source": [
        "# Method"
      ]
    },
    {
      "cell_type": "code",
      "metadata": {
        "id": "_4KrWH6tUwl1"
      },
      "source": [
        "class Student:\n",
        "  def __init__(self, name= \"guest\", age = 21):\n",
        "    self.name = name\n",
        "    self.age = age\n",
        "  \n",
        "  def student_info(self):\n",
        "    print(\"Name: \",self.name,\" Age:\", self.age)\n",
        "\n",
        "std1 = Student(\"abdur rashid\", 21)\n",
        "std1.student_info()"
      ],
      "execution_count": null,
      "outputs": []
    },
    {
      "cell_type": "markdown",
      "metadata": {
        "id": "Wa4BkL_J06PU"
      },
      "source": [
        "# **Class, Instructor, instance & Object**\n",
        "\n",
        "\n",
        "      "
      ]
    },
    {
      "cell_type": "code",
      "metadata": {
        "colab": {
          "base_uri": "https://localhost:8080/"
        },
        "id": "TpMWclPd1JEl",
        "outputId": "c3ece273-1c66-4f78-e4f8-3f1a05e278aa"
      },
      "source": [
        " \n",
        "# assigned in the class declaration, are class variables and\n",
        "# variables inside methods and constructors are instance\n",
        "# variables.\n",
        "    \n",
        "# Class for Dog\n",
        "class Dog:\n",
        "   \n",
        "    # Class Variable\n",
        "    animal = 'dog'            \n",
        "   \n",
        "    # The init method or constructor\n",
        "    def __init__(self, breed, color):\n",
        "     \n",
        "        # Instance Variable    \n",
        "        self.breed = breed\n",
        "        self.color = color       \n",
        "    \n",
        "# Objects of Dog class\n",
        "Rodger = Dog(\"Pug\", \"brown\")\n",
        "Buzo = Dog(\"Bulldog\", \"black\")\n",
        " \n",
        "print('Rodger details:')  \n",
        "print('Rodger is a', Rodger.animal)\n",
        "print('Breed: ', Rodger.breed)\n",
        "print('Color: ', Rodger.color)\n",
        " \n",
        "print('\\nBuzo details:')  \n",
        "print('Buzo is a', Buzo.animal)\n",
        "print('Breed: ', Buzo.breed)\n",
        "print('Color: ', Buzo.color)\n",
        " \n",
        "# Class variables can be accessed using class\n",
        "# name also\n",
        "print(\"\\nAccessing class variable using class name\")\n",
        "print(Dog.animal)  "
      ],
      "execution_count": null,
      "outputs": [
        {
          "output_type": "stream",
          "name": "stdout",
          "text": [
            "Rodger details:\n",
            "Rodger is a dog\n",
            "Breed:  Pug\n",
            "Color:  brown\n",
            "\n",
            "Buzo details:\n",
            "Buzo is a dog\n",
            "Breed:  Bulldog\n",
            "Color:  black\n",
            "\n",
            "Accessing class variable using class name\n",
            "dog\n"
          ]
        }
      ]
    },
    {
      "cell_type": "markdown",
      "metadata": {
        "id": "DOdJPxlHA5Iw"
      },
      "source": [
        "# Further example of instance Variable"
      ]
    },
    {
      "cell_type": "code",
      "metadata": {
        "colab": {
          "base_uri": "https://localhost:8080/"
        },
        "id": "tmtosrjbA9ov",
        "outputId": "9494de06-e904-4708-a7e2-8afa592dfb84"
      },
      "source": [
        "# Python3 program to show that we can create \n",
        "# instance variables inside methods\n",
        "    \n",
        "# Class for Dog\n",
        "class Dog:\n",
        "       \n",
        "    # Class Variable\n",
        "    animal = 'dog'     \n",
        "       \n",
        "    # The init method or constructor\n",
        "    def __init__(self, breed):\n",
        "           \n",
        "        # Instance Variable\n",
        "        self.breed = breed            \n",
        "   \n",
        "    # Adds an instance variable \n",
        "    def setColor(self, color):\n",
        "        self.color = color\n",
        "       \n",
        "    # Retrieves instance variable    \n",
        "    def getColor(self):    \n",
        "        return self.color   \n",
        "   \n",
        "# Driver Code\n",
        "Rodger = Dog(\"pug\")\n",
        "Rodger.setColor(\"brown\")\n",
        "print(Rodger.getColor()) "
      ],
      "execution_count": null,
      "outputs": [
        {
          "output_type": "stream",
          "name": "stdout",
          "text": [
            "brown\n"
          ]
        }
      ]
    },
    {
      "cell_type": "markdown",
      "metadata": {
        "id": "usUy7_11YoNj"
      },
      "source": [
        "# **Inheritence**"
      ]
    },
    {
      "cell_type": "code",
      "metadata": {
        "id": "V9wXLWOz9tdd",
        "colab": {
          "base_uri": "https://localhost:8080/"
        },
        "outputId": "2b4b4fa0-cf86-4a3f-cbe5-e749ee9616fe"
      },
      "source": [
        "#Example and explaination of inheritence\n",
        "class quadriLateral:\n",
        "  def gg (self,a,b,c,d):\n",
        "    self.a = a\n",
        "    self.b = b\n",
        "    self.c = c\n",
        "    self.d = d\n",
        "\n",
        "  def perimeter(self):\n",
        "    print(self.a + self.b + self.c + self.d)\n",
        "\n",
        "\n",
        "q1.perimeter()\n",
        "\n",
        "# Inherit parent class (quadriLateral) in to child class (rectangle)\n",
        "class rectangle(quadriLateral): #Child class\n",
        "  def __init__(self,a,b):\n",
        "    super().gg(a,b,a,b) #calling constructor from parent class\n",
        "\n",
        "r1 = rectangle(4,5)\n",
        "r1.perimeter()\n",
        "\n",
        "\n",
        "class square(rectangle):\n",
        "  def __init__(self,a):\n",
        "    super().__init__(a,a)\n",
        "\n",
        "s1 =square(4)\n",
        "s1.perimeter()"
      ],
      "execution_count": null,
      "outputs": [
        {
          "output_type": "stream",
          "name": "stdout",
          "text": [
            "22\n",
            "18\n",
            "16\n"
          ]
        }
      ]
    },
    {
      "cell_type": "markdown",
      "metadata": {
        "id": "1aE_jRF-65AB"
      },
      "source": [
        "# Class, Inheritence & Super example"
      ]
    },
    {
      "cell_type": "code",
      "metadata": {
        "id": "b1BmbPo-Rqmz"
      },
      "source": [
        "class Person:\n",
        "    def __init__(self,name,age):\n",
        "        self.name=name\n",
        "        self.age=age\n",
        "    def myfunc(self):  # self used to access variables that belongs to the class.\n",
        "        print(f\"Hello my name is {self.name}\")\n",
        "        print(f\"my number is {self.age}\")\n",
        "        \n",
        "\n",
        "\n",
        "class Wife(Person):#can use multiple child class and also child class of child class\n",
        "    def __init__(self,name,age,phone):\n",
        "       super().__init__(name,age)#inherit variable from parent class\n",
        "       self.phone=phone\n",
        "    def myfun(self):  # self used to access variables that belongs to the class.   \n",
        "        print(f\"my number is {self.phone}\")\n",
        "\n",
        "p1 = Person(\"abdullah\",23)\n",
        "p2 = Wife(\"Sukonna\", 22,\"0111111111\")\n",
        "p1.myfunc()\n",
        "p2.myfunc()\n",
        "p2.myfun()"
      ],
      "execution_count": null,
      "outputs": []
    }
  ]
}